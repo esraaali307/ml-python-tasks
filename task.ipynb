{
 "cells": [
  {
   "cell_type": "code",
   "execution_count": 2,
   "metadata": {},
   "outputs": [],
   "source": [
    "import mysql.connector"
   ]
  },
  {
   "cell_type": "code",
   "execution_count": 109,
   "metadata": {},
   "outputs": [],
   "source": [
    "conn = mysql.connector.connect(host = \"localhost\",port=3306,user=\"root\",passwd=\"\")\n",
    "cursor = conn.cursor()\n",
    "cursor.execute(\"use supermarket\")\n",
    "cursor.execute(\"SELECT count(*) from item where price > 5 ;\")\n",
    "cursor.fetchall()\n",
    "def count () :\n",
    "    cursor.execute(\"SELECT count(*) from item ;\")\n",
    "    cursor.fetchall()\n"
   ]
  },
  {
   "cell_type": "code",
   "execution_count": 115,
   "metadata": {},
   "outputs": [],
   "source": [
    "class item :\n",
    "    #conn = mysql.connector.connect(host = \"localhost\",port=3306,user=\"root\",passwd=\"\")\n",
    "    #cursor = conn.cursor()\n",
    "    #cursor.execute(\"use supermarket\")\n",
    "    #cursor.execute(\"SELECT count(*) from item where price > 5 ;\")\n",
    "    #cursor.fetchall()\n",
    "    def connection (self) :\n",
    "        conn = mysql.connector.connect(host = \"localhost\",port=3306,user=\"root\",passwd=\"\")\n",
    "        cursor = conn.cursor()\n",
    "        cursor.execute(\"use supermarket\")\n",
    "    def add_item (self) :\n",
    "        it=item()\n",
    "        it.connection()\n",
    "        cursor.execute(\"insert into item values(7,'gg',5,3) ;\")\n",
    "        conn.commit()\n",
    "        #id=input(\"id:\")\n",
    "        #name=input(\"name:\")\n",
    "        #quantity=input(\"quantity:\")\n",
    "        #price=input(\"price:\")\n",
    "    def update_item (self) :\n",
    "\n",
    "        cursor.execute(\"update item set price = 20 where id =2;\")\n",
    "        conn.commit()\n",
    "        \n",
    "        \n",
    "        "
   ]
  },
  {
   "cell_type": "code",
   "execution_count": 116,
   "metadata": {},
   "outputs": [],
   "source": [
    "it = item()\n",
    "#it.add_item()\n",
    "it.update_item()"
   ]
  },
  {
   "cell_type": "code",
   "execution_count": null,
   "metadata": {},
   "outputs": [],
   "source": []
  },
  {
   "cell_type": "code",
   "execution_count": null,
   "metadata": {},
   "outputs": [],
   "source": []
  },
  {
   "cell_type": "code",
   "execution_count": null,
   "metadata": {},
   "outputs": [],
   "source": []
  }
 ],
 "metadata": {
  "kernelspec": {
   "display_name": "Python 3",
   "language": "python",
   "name": "python3"
  },
  "language_info": {
   "codemirror_mode": {
    "name": "ipython",
    "version": 3
   },
   "file_extension": ".py",
   "mimetype": "text/x-python",
   "name": "python",
   "nbconvert_exporter": "python",
   "pygments_lexer": "ipython3",
   "version": "3.7.3"
  }
 },
 "nbformat": 4,
 "nbformat_minor": 2
}
